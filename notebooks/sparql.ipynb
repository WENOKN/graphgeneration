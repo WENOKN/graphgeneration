{
 "cells": [
  {
   "cell_type": "markdown",
   "metadata": {
    "tags": []
   },
   "source": [
    "# SPARQL Playground\n",
    "\n",
    "<a href=\"https://githubtocolab.com/gleanerio/archetype/blob/master/networks/commons/sparql.ipynb\" target=\"_parent\"><img src=\"https://colab.research.google.com/assets/colab-badge.png\" alt=\"Open in Colab\"/></a>\n"
   ]
  },
  {
   "cell_type": "markdown",
   "metadata": {},
   "source": [
    "## requirements.txt"
   ]
  },
  {
   "cell_type": "code",
   "execution_count": 39,
   "metadata": {
    "collapsed": false,
    "ExecuteTime": {
     "end_time": "2024-02-22T14:24:52.822871Z",
     "start_time": "2024-02-22T14:24:35.261702Z"
    }
   },
   "outputs": [],
   "source": [
    "%%capture\n",
    "!pip install -q minio\n",
    "!pip install -q kglab\n",
    "!pip install sparqlwrapper\n"
   ]
  },
  {
   "cell_type": "markdown",
   "metadata": {},
   "source": [
    "## imports"
   ]
  },
  {
   "cell_type": "code",
   "execution_count": 62,
   "metadata": {
    "collapsed": false,
    "tags": [],
    "ExecuteTime": {
     "end_time": "2024-02-22T19:02:14.769309Z",
     "start_time": "2024-02-22T19:02:14.271819Z"
    }
   },
   "outputs": [],
   "source": [
    "import warnings\n",
    "warnings.simplefilter(action='ignore', category=FutureWarning)  ## remove pandas future warning\n",
    "import pandas as pd\n",
    "from SPARQLWrapper import SPARQLWrapper, JSON\n",
    "import json\n",
    "from geopandas import GeoDataFrame"
   ]
  },
  {
   "cell_type": "markdown",
   "source": [
    "## Remote SPARQL server"
   ],
   "metadata": {
    "collapsed": false
   }
  },
  {
   "cell_type": "code",
   "execution_count": 41,
   "outputs": [],
   "source": [
    "#@title\n",
    "def get_sparql_dataframe(service, query):\n",
    "    \"\"\"\n",
    "    Helper function to convert SPARQL results into a Pandas data frame.\n",
    "    \"\"\"\n",
    "    sparql = SPARQLWrapper(service)\n",
    "    sparql.setQuery(query)\n",
    "    sparql.setReturnFormat(JSON)\n",
    "    result = sparql.query()\n",
    "\n",
    "    processed_results = json.load(result.response)\n",
    "    cols = processed_results['head']['vars']\n",
    "\n",
    "    out = []\n",
    "    for row in processed_results['results']['bindings']:\n",
    "        item = []\n",
    "        for c in cols:\n",
    "            item.append(row.get(c, {}).get('value'))\n",
    "        out.append(item)\n",
    "\n",
    "    return pd.DataFrame(out, columns=cols)"
   ],
   "metadata": {
    "collapsed": false,
    "ExecuteTime": {
     "end_time": "2024-02-22T14:25:08.858942Z",
     "start_time": "2024-02-22T14:25:08.856088Z"
    }
   }
  },
  {
   "cell_type": "code",
   "execution_count": 43,
   "outputs": [
    {
     "data": {
      "text/plain": "                                        s                s2l13  \\\n0  https://ufokn.org/id/urmi/dpk4bzkkghxv  9817229210593263616   \n1  https://ufokn.org/id/urmi/dpk4bzkkghxv  9817229210593263616   \n2  https://ufokn.org/id/urmi/dpk4bzkkghxv  9817229210593263616   \n3  https://ufokn.org/id/urmi/dpk4bzkkghxv  9817229210593263616   \n4  https://ufokn.org/id/urmi/dpk4b8xu90h7  9817233883517681664   \n5  https://ufokn.org/id/urmi/dpk4b8xu90h7  9817233883517681664   \n6  https://ufokn.org/id/urmi/dpk4b8xu90h7  9817233883517681664   \n7  https://ufokn.org/id/urmi/dpk4b8xu90h7  9817233883517681664   \n8  https://ufokn.org/id/urmi/dpk4b8xu90h7  9817233883517681664   \n9  https://ufokn.org/id/urmi/dpk4b8xu90h7  9817233883517681664   \n\n                                    buildingLocation  \n0  POINT( -84.33606510000001 41.30531429999997 2....  \n1  POINT( -84.33606510000001 41.30531429999997 2....  \n2  POINT( -84.33606510000001 41.30531429999997 2....  \n3  POINT( -84.33606510000001 41.30531429999997 2....  \n4  POINT( -84.3423355 41.26816799999996 8.0601425...  \n5  POINT( -84.3423355 41.26816799999996 8.0601425...  \n6  POINT( -84.3423355 41.26816799999996 8.0601425...  \n7  POINT( -84.3423355 41.26816799999996 8.0601425...  \n8  POINT( -84.3423355 41.26816799999996 8.0601425...  \n9  POINT( -84.3423355 41.26816799999996 8.0601425...  ",
      "text/html": "<div>\n<style scoped>\n    .dataframe tbody tr th:only-of-type {\n        vertical-align: middle;\n    }\n\n    .dataframe tbody tr th {\n        vertical-align: top;\n    }\n\n    .dataframe thead th {\n        text-align: right;\n    }\n</style>\n<table border=\"1\" class=\"dataframe\">\n  <thead>\n    <tr style=\"text-align: right;\">\n      <th></th>\n      <th>s</th>\n      <th>s2l13</th>\n      <th>buildingLocation</th>\n    </tr>\n  </thead>\n  <tbody>\n    <tr>\n      <th>0</th>\n      <td>https://ufokn.org/id/urmi/dpk4bzkkghxv</td>\n      <td>9817229210593263616</td>\n      <td>POINT( -84.33606510000001 41.30531429999997 2....</td>\n    </tr>\n    <tr>\n      <th>1</th>\n      <td>https://ufokn.org/id/urmi/dpk4bzkkghxv</td>\n      <td>9817229210593263616</td>\n      <td>POINT( -84.33606510000001 41.30531429999997 2....</td>\n    </tr>\n    <tr>\n      <th>2</th>\n      <td>https://ufokn.org/id/urmi/dpk4bzkkghxv</td>\n      <td>9817229210593263616</td>\n      <td>POINT( -84.33606510000001 41.30531429999997 2....</td>\n    </tr>\n    <tr>\n      <th>3</th>\n      <td>https://ufokn.org/id/urmi/dpk4bzkkghxv</td>\n      <td>9817229210593263616</td>\n      <td>POINT( -84.33606510000001 41.30531429999997 2....</td>\n    </tr>\n    <tr>\n      <th>4</th>\n      <td>https://ufokn.org/id/urmi/dpk4b8xu90h7</td>\n      <td>9817233883517681664</td>\n      <td>POINT( -84.3423355 41.26816799999996 8.0601425...</td>\n    </tr>\n    <tr>\n      <th>5</th>\n      <td>https://ufokn.org/id/urmi/dpk4b8xu90h7</td>\n      <td>9817233883517681664</td>\n      <td>POINT( -84.3423355 41.26816799999996 8.0601425...</td>\n    </tr>\n    <tr>\n      <th>6</th>\n      <td>https://ufokn.org/id/urmi/dpk4b8xu90h7</td>\n      <td>9817233883517681664</td>\n      <td>POINT( -84.3423355 41.26816799999996 8.0601425...</td>\n    </tr>\n    <tr>\n      <th>7</th>\n      <td>https://ufokn.org/id/urmi/dpk4b8xu90h7</td>\n      <td>9817233883517681664</td>\n      <td>POINT( -84.3423355 41.26816799999996 8.0601425...</td>\n    </tr>\n    <tr>\n      <th>8</th>\n      <td>https://ufokn.org/id/urmi/dpk4b8xu90h7</td>\n      <td>9817233883517681664</td>\n      <td>POINT( -84.3423355 41.26816799999996 8.0601425...</td>\n    </tr>\n    <tr>\n      <th>9</th>\n      <td>https://ufokn.org/id/urmi/dpk4b8xu90h7</td>\n      <td>9817233883517681664</td>\n      <td>POINT( -84.3423355 41.26816799999996 8.0601425...</td>\n    </tr>\n  </tbody>\n</table>\n</div>"
     },
     "execution_count": 43,
     "metadata": {},
     "output_type": "execute_result"
    }
   ],
   "source": [
    "rp1 = \"\"\"\n",
    "PREFIX schema: <https://schema.org/>\n",
    "PREFIX geo: <http://www.opengis.net/ont/geosparql#>\n",
    "PREFIX geof: <http://www.opengis.net/def/function/geosparql/>\n",
    "PREFIX unit: <http://www.opengis.net/def/uom/OGC/1.0/>\n",
    "PREFIX xsd: <http://www.w3.org/2001/XMLSchema#>\n",
    "\n",
    "select ?s ?s2l13 ?buildingLocation where {\n",
    "            ?s schema:additionalType \"power\"  .\n",
    "            ?s schema:geo ?geo .\n",
    "\n",
    "            ?geo schema:identifier ?geoid .\n",
    "            ?geoid schema:name \"s2Level13\" .\n",
    "            ?geoid schema:value ?s2l13 .\n",
    "\n",
    "            ?geo geo:asWKT ?buildingLocation .\n",
    "\n",
    "            BIND(\"POINT(-84.3555 41.3175)\"^^geo:wktLiteral AS ?centroid)\n",
    "            BIND(geof:buffer(?centroid, 8.04672, unit:kilometer) AS ?searchArea)\n",
    "}\n",
    "\"\"\"\n",
    "\n",
    "ep = \"http://132.249.238.155/repositories/wenokn_ohio\"\n",
    "\n",
    "df = get_sparql_dataframe(ep, rp1)\n",
    "df.head(10)"
   ],
   "metadata": {
    "collapsed": false,
    "ExecuteTime": {
     "end_time": "2024-02-22T15:30:13.810075Z",
     "start_time": "2024-02-22T15:30:13.524388Z"
    }
   }
  },
  {
   "cell_type": "code",
   "execution_count": 50,
   "outputs": [
    {
     "data": {
      "text/plain": "                                        s  \\\n0  https://ufokn.org/id/urmi/dpk4bzkkghxv   \n1  https://ufokn.org/id/urmi/dpk4bzkkghxv   \n2  https://ufokn.org/id/urmi/dpk4bzkkghxv   \n3  https://ufokn.org/id/urmi/dpk4bzkkghxv   \n4  https://ufokn.org/id/urmi/dpk4bzkkghxv   \n5  https://ufokn.org/id/urmi/dpk4bzkkghxv   \n6  https://ufokn.org/id/urmi/dpk4bzkkghxv   \n7  https://ufokn.org/id/urmi/dpk4bzkkghxv   \n8  https://ufokn.org/id/urmi/dpk4bzkkghxv   \n9  https://ufokn.org/id/urmi/dpk4bzkkghxv   \n\n                                              kwgres                s2l13  \n0  http://stko-kwg.geog.ucsb.edu/lod/resource/Nie...  9817229210593263616  \n1  http://stko-kwg.geog.ucsb.edu/lod/resource/nat...  9817229210593263616  \n2  http://stko-kwg.geog.ucsb.edu/lod/resource/nat...  9817229210593263616  \n3  http://stko-kwg.geog.ucsb.edu/lod/resource/Ear...  9817229210593263616  \n4  http://stko-kwg.geog.ucsb.edu/lod/resource/NWZ...  9817229210593263616  \n5  http://stko-kwg.geog.ucsb.edu/lod/resource/cen...  9817229210593263616  \n6  http://stko-kwg.geog.ucsb.edu/lod/resource/noa...  9817229210593263616  \n7  http://stko-kwg.geog.ucsb.edu/lod/resource/dis...  9817229210593263616  \n8  http://stko-kwg.geog.ucsb.edu/lod/resource/s2....  9817229210593263616  \n9  http://stko-kwg.geog.ucsb.edu/lod/resource/smo...  9817229210593263616  ",
      "text/html": "<div>\n<style scoped>\n    .dataframe tbody tr th:only-of-type {\n        vertical-align: middle;\n    }\n\n    .dataframe tbody tr th {\n        vertical-align: top;\n    }\n\n    .dataframe thead th {\n        text-align: right;\n    }\n</style>\n<table border=\"1\" class=\"dataframe\">\n  <thead>\n    <tr style=\"text-align: right;\">\n      <th></th>\n      <th>s</th>\n      <th>kwgres</th>\n      <th>s2l13</th>\n    </tr>\n  </thead>\n  <tbody>\n    <tr>\n      <th>0</th>\n      <td>https://ufokn.org/id/urmi/dpk4bzkkghxv</td>\n      <td>http://stko-kwg.geog.ucsb.edu/lod/resource/Nie...</td>\n      <td>9817229210593263616</td>\n    </tr>\n    <tr>\n      <th>1</th>\n      <td>https://ufokn.org/id/urmi/dpk4bzkkghxv</td>\n      <td>http://stko-kwg.geog.ucsb.edu/lod/resource/nat...</td>\n      <td>9817229210593263616</td>\n    </tr>\n    <tr>\n      <th>2</th>\n      <td>https://ufokn.org/id/urmi/dpk4bzkkghxv</td>\n      <td>http://stko-kwg.geog.ucsb.edu/lod/resource/nat...</td>\n      <td>9817229210593263616</td>\n    </tr>\n    <tr>\n      <th>3</th>\n      <td>https://ufokn.org/id/urmi/dpk4bzkkghxv</td>\n      <td>http://stko-kwg.geog.ucsb.edu/lod/resource/Ear...</td>\n      <td>9817229210593263616</td>\n    </tr>\n    <tr>\n      <th>4</th>\n      <td>https://ufokn.org/id/urmi/dpk4bzkkghxv</td>\n      <td>http://stko-kwg.geog.ucsb.edu/lod/resource/NWZ...</td>\n      <td>9817229210593263616</td>\n    </tr>\n    <tr>\n      <th>5</th>\n      <td>https://ufokn.org/id/urmi/dpk4bzkkghxv</td>\n      <td>http://stko-kwg.geog.ucsb.edu/lod/resource/cen...</td>\n      <td>9817229210593263616</td>\n    </tr>\n    <tr>\n      <th>6</th>\n      <td>https://ufokn.org/id/urmi/dpk4bzkkghxv</td>\n      <td>http://stko-kwg.geog.ucsb.edu/lod/resource/noa...</td>\n      <td>9817229210593263616</td>\n    </tr>\n    <tr>\n      <th>7</th>\n      <td>https://ufokn.org/id/urmi/dpk4bzkkghxv</td>\n      <td>http://stko-kwg.geog.ucsb.edu/lod/resource/dis...</td>\n      <td>9817229210593263616</td>\n    </tr>\n    <tr>\n      <th>8</th>\n      <td>https://ufokn.org/id/urmi/dpk4bzkkghxv</td>\n      <td>http://stko-kwg.geog.ucsb.edu/lod/resource/s2....</td>\n      <td>9817229210593263616</td>\n    </tr>\n    <tr>\n      <th>9</th>\n      <td>https://ufokn.org/id/urmi/dpk4bzkkghxv</td>\n      <td>http://stko-kwg.geog.ucsb.edu/lod/resource/smo...</td>\n      <td>9817229210593263616</td>\n    </tr>\n  </tbody>\n</table>\n</div>"
     },
     "execution_count": 50,
     "metadata": {},
     "output_type": "execute_result"
    }
   ],
   "source": [
    "rp1 = \"\"\"\n",
    "PREFIX schema: <https://schema.org/>\n",
    "PREFIX geo: <http://www.opengis.net/ont/geosparql#>\n",
    "PREFIX geof: <http://www.opengis.net/def/function/geosparql/>\n",
    "PREFIX unit: <http://www.opengis.net/def/uom/OGC/1.0/>\n",
    "PREFIX xsd: <http://www.w3.org/2001/XMLSchema#>\n",
    "PREFIX kwg-ont: <http://stko-kwg.geog.ucsb.edu/lod/ontology/>\n",
    "PREFIX kwgr: <http://stko-kwg.geog.ucsb.edu/lod/resource/>\n",
    "\n",
    "select ?s ?kwgres ?s2l13 where {\n",
    "            ?s schema:additionalType \"power\"  .\n",
    "            ?s schema:geo ?geo .        \n",
    "\n",
    "            ?geo schema:identifier ?geoid .\n",
    "            ?geoid schema:name \"s2Level13\" .\n",
    "            ?geoid schema:value ?s2l13 .\n",
    "\n",
    "            ?geo geo:asWKT ?buildingLocation .\n",
    "\n",
    "            BIND(\"POINT(-84.3555 41.3175)\"^^geo:wktLiteral AS ?centroid)\n",
    "            BIND(geof:buffer(?centroid, 8.04672, unit:kilometer) AS ?searchArea)\n",
    "\n",
    "            OPTIONAL {\n",
    "                SERVICE <https://stko-kwg.geog.ucsb.edu/workbench/repositories/KWG> {\n",
    "                    select * where {\n",
    "                        ?kwgs ?kwgp ?s2l13 .\n",
    "                        ?kwgres ?kwgp2 ?kwgs\n",
    "                    }\n",
    "                }\n",
    "            }\n",
    "}\n",
    "\"\"\"\n",
    "\n",
    "ep = \"http://132.249.238.155/repositories/wenokn_ohio\"\n",
    "\n",
    "df = get_sparql_dataframe(ep, rp1)\n",
    "df.head(10)"
   ],
   "metadata": {
    "collapsed": false,
    "ExecuteTime": {
     "end_time": "2024-02-22T18:47:59.596533Z",
     "start_time": "2024-02-22T18:47:58.417697Z"
    }
   }
  },
  {
   "cell_type": "code",
   "outputs": [
    {
     "data": {
      "text/plain": "Empty DataFrame\nColumns: [s, s2id, buildingLocation]\nIndex: []",
      "text/html": "<div>\n<style scoped>\n    .dataframe tbody tr th:only-of-type {\n        vertical-align: middle;\n    }\n\n    .dataframe tbody tr th {\n        vertical-align: top;\n    }\n\n    .dataframe thead th {\n        text-align: right;\n    }\n</style>\n<table border=\"1\" class=\"dataframe\">\n  <thead>\n    <tr style=\"text-align: right;\">\n      <th></th>\n      <th>s</th>\n      <th>s2id</th>\n      <th>buildingLocation</th>\n    </tr>\n  </thead>\n  <tbody>\n  </tbody>\n</table>\n</div>"
     },
     "execution_count": 68,
     "metadata": {},
     "output_type": "execute_result"
    }
   ],
   "source": [
    "rp1 = \"\"\"\n",
    "PREFIX schema: <https://schema.org/>\n",
    "PREFIX geo: <http://www.opengis.net/ont/geosparql#>\n",
    "PREFIX geof: <http://www.opengis.net/def/function/geosparql/>\n",
    "PREFIX unit: <http://www.opengis.net/def/uom/OGC/1.0/>\n",
    "PREFIX xsd: <http://www.w3.org/2001/XMLSchema#>\n",
    "PREFIX kwg-ont: <http://stko-kwg.geog.ucsb.edu/lod/ontology/>\n",
    "PREFIX kwgr: <http://stko-kwg.geog.ucsb.edu/lod/resource/>\n",
    "\n",
    "select DISTINCT ?s ?s2id ?buildingLocation\n",
    "where {\n",
    "    SERVICE <https://stko-kwg.geog.ucsb.edu/workbench/repositories/KWG> {\n",
    "        select * where {\n",
    "            kwgr:census.USCensusMSA.31000US19580.2019 kwg-ont:sfContains ?s2res .\n",
    "            ?s2res kwg-ont:hasID ?s2res_id . \n",
    "        } \n",
    "    }\n",
    "    BIND( ?s2res_id AS ?s2id)   \n",
    "\n",
    "    ?s schema:additionalType \"power\" .\n",
    "    ?s schema:geo ?geo .\n",
    "\n",
    "    ?geo schema:identifier ?geoid .\n",
    "    ?geoid schema:name \"s2Level13\" .\n",
    "    ?geoid schema:value ?s2id .\n",
    "\n",
    "    ?geo geo:asWKT ?buildingLocation .\n",
    "} \n",
    "\"\"\"\n",
    "\n",
    "\n",
    "ep = \"http://132.249.238.155/repositories/wenokn_ohio\"\n",
    "\n",
    "df = get_sparql_dataframe(ep, rp1)\n",
    "df.head(100)"
   ],
   "metadata": {
    "collapsed": false,
    "ExecuteTime": {
     "end_time": "2024-02-22T19:08:47.184555Z",
     "start_time": "2024-02-22T19:08:47.025381Z"
    }
   },
   "execution_count": 68
  },
  {
   "cell_type": "code",
   "outputs": [],
   "source": [],
   "metadata": {
    "collapsed": false
   }
  }
 ],
 "metadata": {
  "kernelspec": {
   "display_name": "Python 3",
   "language": "python",
   "name": "python3"
  },
  "language_info": {
   "codemirror_mode": {
    "name": "ipython",
    "version": 3
   },
   "file_extension": ".py",
   "mimetype": "text/x-python",
   "name": "python",
   "nbconvert_exporter": "python",
   "pygments_lexer": "ipython3",
   "version": "3.10.12"
  }
 },
 "nbformat": 4,
 "nbformat_minor": 4
}
